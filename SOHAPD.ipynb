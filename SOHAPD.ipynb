{
  "nbformat": 4,
  "nbformat_minor": 0,
  "metadata": {
    "colab": {
      "name": "SOHAPD.ipynb",
      "provenance": [],
      "collapsed_sections": [],
      "authorship_tag": "ABX9TyNIFVARjm6PvcPZwNhYl0I/"
    },
    "kernelspec": {
      "name": "python3",
      "display_name": "Python 3"
    },
    "language_info": {
      "name": "python"
    }
  },
  "cells": [
    {
      "cell_type": "markdown",
      "source": [
        "#SOlar HAlo PreDictor\n",
        "\n",
        "SOHAPD는 조선시대 기록 중 승정원일기나 소현동궁일기에 기록된 햇무리 현상들을 분석하고 예상도를 그려 주는 프로그램입니다. RNN을 사용하여 보다 정확한 판단이 가능하며, 더 나은 모델이 나올 때마다 수정하고 있습니다.\n",
        "\n",
        "SOHAPD를 제대로 사용하기 위해서는, 햇무리 관측 데이터(문장)뿐 아니라 당시 태양의 고도가 필요합니다. 태양 고도를 계산하기 위한 알고리즘은 여기에 싣지 않았으므로, 직접 계산하셔야 합니다. 그러나 SOHAPD는 기본적으로 25도와 40도만을 기준으로 햇무리 모양을 판단하므로 대략적인 고도만 알고 계셔도 상관없습니다.\n",
        "\n",
        "SOHAPD에 사용된 데이터의 분류 기준은 저의 기존 햇무리 연구 결과를 따르며, 고도별 햇무리 그림들은 https://www.atoptics.co.uk/ 를 참조하여 직접 그린 것입니다.\n",
        "\n",
        "제 햇무리 연구 결과가 직접 업로드되지는 않겠지만, 딥러닝을 위한 각종 데이터가 수록된 깃헙 https://github.com/jyhyun1008/SolarHalo 도 많은 관심 부탁드립니다."
      ],
      "metadata": {
        "id": "tStVR_qdV9-Y"
      }
    },
    {
      "cell_type": "markdown",
      "source": [
        "#모듈 및 모델 불러오기"
      ],
      "metadata": {
        "id": "sEsU55FSVd8c"
      }
    },
    {
      "cell_type": "code",
      "execution_count": 1,
      "metadata": {
        "colab": {
          "base_uri": "https://localhost:8080/"
        },
        "id": "tdHq-pepPhzP",
        "outputId": "4ca6dea4-0f18-4570-e149-72fc67f18cfb"
      },
      "outputs": [
        {
          "output_type": "stream",
          "name": "stdout",
          "text": [
            "Cloning into 'halo'...\n",
            "remote: Enumerating objects: 53, done.\u001b[K\n",
            "remote: Counting objects: 100% (53/53), done.\u001b[K\n",
            "remote: Compressing objects: 100% (46/46), done.\u001b[K\n",
            "remote: Total 53 (delta 12), reused 11 (delta 4), pack-reused 0\u001b[K\n",
            "Unpacking objects: 100% (53/53), done.\n"
          ]
        }
      ],
      "source": [
        "import numpy as np\n",
        "\n",
        "import tensorflow as tf\n",
        "from keras.models import load_model\n",
        "from tensorflow.keras.preprocessing.sequence import pad_sequences\n",
        "from tensorflow.keras.preprocessing.text import Tokenizer\n",
        "import pickle\n",
        "from PIL import Image\n",
        "\n",
        "!git clone https://github.com/jyhyun1008/SolarHalo.git halo\n",
        "\n",
        "# loading\n",
        "with open('halo/tokenizer.pickle', 'rb') as handle:\n",
        "    tokenizer = pickle.load(handle)\n",
        "model = load_model('halo/best_model.h5')"
      ]
    },
    {
      "cell_type": "code",
      "source": [
        "def halo_predict(text_data, altitude):\n",
        "  text_data = text_data.replace('內赤外靑', '')\n",
        "  text_data = text_data.replace('色', '')\n",
        "  text_data = text_data.replace('皆', '')\n",
        "  text_data = text_data.replace(', ', '')\n",
        "  text_data = text_data.replace('.', '')\n",
        "  arr = list(text_data)\n",
        "  blank = ''\n",
        "  for j in range(0, len(arr)):\n",
        "    blank = blank+' '+arr[j]\n",
        "  encoded = tokenizer.texts_to_sequences([blank]) # 정수 인코딩\n",
        "  pad_new = pad_sequences(encoded, maxlen = 42) # 패딩\n",
        "\n",
        "  ALT_Num = np.array([[0, 0, 0]])\n",
        "  if altitude < 25:\n",
        "    ALT_Num = np.array([[1, 0, 0]])\n",
        "  elif altitude < 40:\n",
        "    ALT_Num = np.array([[0, 1, 0]])\n",
        "  else:\n",
        "    ALT_Num = np.array([[0, 0, 1]])\n",
        "\n",
        "  finalarray = tf.concat([ALT_Num, pad_new], 1)\n",
        "\n",
        "  predictions = model.predict(finalarray) # 예측\n",
        "\n",
        "  Trans01 = predictions[0][0]\n",
        "  Trans02 = predictions[0][1]\n",
        "  Trans03 = predictions[0][2]\n",
        "  Trans04 = predictions[0][3]\n",
        "  Trans05 = predictions[0][4]\n",
        "  Trans06 = predictions[0][5]\n",
        "  Trans07 = predictions[0][6]\n",
        "  Trans08 = predictions[0][7]\n",
        "  Trans09 = predictions[0][8]\n",
        "  Trans10 = predictions[0][9]\n",
        "  Trans11 = predictions[0][10]\n",
        "  Trans12 = predictions[0][11]\n",
        "  Trans13 = predictions[0][12]\n",
        "  Trans14 = predictions[0][13]\n",
        "  Trans15 = predictions[0][14]\n",
        "\n",
        "  bgimage = Image.open('halo/bgimage.png')\n",
        "  image01 = Image.open('halo/image01.png')\n",
        "  image02 = Image.open('halo/image02.png')\n",
        "  image03 = Image.open('halo/image03.png')\n",
        "  image04 = Image.open('halo/image04.png')\n",
        "  if altitude < 25:\n",
        "    image05 = Image.open('halo/image05_1.png')\n",
        "    image06 = Image.open('halo/image06_1.png')\n",
        "  elif altitude < 40:\n",
        "    image05 = Image.open('halo/image05_2.png')\n",
        "    image06 = Image.open('halo/image06_2.png')\n",
        "  else:\n",
        "    image05 = Image.open('halo/image05_3.png')\n",
        "    image06 = Image.open('halo/image06_3.png')\n",
        "  image07 = Image.open('halo/image07.png')\n",
        "  image08 = Image.open('halo/image08.png')\n",
        "  image09 = Image.open('halo/image09.png')\n",
        "  image10 = Image.open('halo/image10.png')\n",
        "  image11 = Image.open('halo/image11.png')\n",
        "  image12 = Image.open('halo/image12.png')\n",
        "  image13 = Image.open('halo/image13.png')\n",
        "  image14 = Image.open('halo/image14.png')\n",
        "  image15 = Image.open('halo/image15.png')\n",
        "\n",
        "  paste01 = list(image01.split())\n",
        "  paste02 = list(image02.split())\n",
        "  paste03 = list(image03.split())\n",
        "  paste04 = list(image04.split())\n",
        "  paste05 = list(image05.split())\n",
        "  paste06 = list(image06.split())\n",
        "  paste07 = list(image07.split())\n",
        "  paste08 = list(image08.split())\n",
        "  paste09 = list(image09.split())\n",
        "  paste10 = list(image10.split())\n",
        "  paste11 = list(image11.split())\n",
        "  paste12 = list(image12.split())\n",
        "  paste13 = list(image13.split())\n",
        "  paste14 = list(image14.split())\n",
        "  paste15 = list(image15.split())\n",
        "\n",
        "  paste01[3] = paste01[3].point(lambda i: i * Trans01)\n",
        "  paste02[3] = paste02[3].point(lambda i: i * Trans02)\n",
        "  paste03[3] = paste03[3].point(lambda i: i * Trans03)\n",
        "  paste04[3] = paste04[3].point(lambda i: i * Trans04)\n",
        "  paste05[3] = paste05[3].point(lambda i: i * Trans05)\n",
        "  paste06[3] = paste06[3].point(lambda i: i * Trans06)\n",
        "  paste07[3] = paste07[3].point(lambda i: i * Trans07)\n",
        "  paste08[3] = paste08[3].point(lambda i: i * Trans08)\n",
        "  paste09[3] = paste09[3].point(lambda i: i * Trans09)\n",
        "  paste10[3] = paste10[3].point(lambda i: i * Trans10)\n",
        "  paste11[3] = paste11[3].point(lambda i: i * Trans11)\n",
        "  paste12[3] = paste12[3].point(lambda i: i * Trans12)\n",
        "  paste13[3] = paste13[3].point(lambda i: i * Trans13)\n",
        "  paste14[3] = paste14[3].point(lambda i: i * Trans14)\n",
        "  paste15[3] = paste15[3].point(lambda i: i * Trans15)\n",
        "\n",
        "  image01 = Image.merge(image01.mode,paste01)\n",
        "  image02 = Image.merge(image02.mode,paste02)\n",
        "  image03 = Image.merge(image03.mode,paste03)\n",
        "  image04 = Image.merge(image04.mode,paste04)\n",
        "  image05 = Image.merge(image05.mode,paste05)\n",
        "  image06 = Image.merge(image06.mode,paste06)\n",
        "  image07 = Image.merge(image07.mode,paste07)\n",
        "  image08 = Image.merge(image08.mode,paste08)\n",
        "  image09 = Image.merge(image09.mode,paste09)\n",
        "  image10 = Image.merge(image10.mode,paste10)\n",
        "  image11 = Image.merge(image11.mode,paste11)\n",
        "  image12 = Image.merge(image12.mode,paste12)\n",
        "  image13 = Image.merge(image13.mode,paste13)\n",
        "  image14 = Image.merge(image14.mode,paste14)\n",
        "  image15 = Image.merge(image15.mode,paste15)\n",
        "\n",
        "  final = Image.new(\"RGBA\", bgimage.size)\n",
        "  final = Image.alpha_composite(final, bgimage)\n",
        "  final = Image.alpha_composite(final, image01)\n",
        "  final = Image.alpha_composite(final, image02)\n",
        "  final = Image.alpha_composite(final, image03)\n",
        "  final = Image.alpha_composite(final, image04)\n",
        "  final = Image.alpha_composite(final, image05)\n",
        "  final = Image.alpha_composite(final, image06)\n",
        "  final = Image.alpha_composite(final, image07)\n",
        "  final = Image.alpha_composite(final, image08)\n",
        "  final = Image.alpha_composite(final, image09)\n",
        "  final = Image.alpha_composite(final, image10)\n",
        "  final = Image.alpha_composite(final, image11)\n",
        "  final = Image.alpha_composite(final, image12)\n",
        "  final = Image.alpha_composite(final, image13)\n",
        "  final = Image.alpha_composite(final, image14)\n",
        "  final = Image.alpha_composite(final, image15)\n",
        "\n",
        "  return final"
      ],
      "metadata": {
        "id": "elvvirWQSE5q"
      },
      "execution_count": 2,
      "outputs": []
    },
    {
      "cell_type": "markdown",
      "source": [
        "#햇무리 예측\n",
        "\n",
        "halo_predict('분석을 요청할 문장', 당시 태양의 고도)"
      ],
      "metadata": {
        "id": "8vpIoIwxVhaN"
      }
    },
    {
      "cell_type": "code",
      "source": [
        "halo_predict('日有重暈, 內暈上有冠, 暈上有戴, 暈下有履, 色皆內赤外靑', 30)"
      ],
      "metadata": {
        "colab": {
          "base_uri": "https://localhost:8080/",
          "height": 273
        },
        "id": "oiS29CD_U2ZQ",
        "outputId": "57f53f52-c223-4227-c070-b03c5d5eea3d"
      },
      "execution_count": 3,
      "outputs": [
        {
          "output_type": "execute_result",
          "data": {
            "image/png": "[encoded data removed]",
            "text/plain": [
              "<PIL.Image.Image image mode=RGBA size=256x256 at 0x7F290BA29A10>"
            ]
          },
          "metadata": {},
          "execution_count": 3
        }
      ]
    }
  ]
}